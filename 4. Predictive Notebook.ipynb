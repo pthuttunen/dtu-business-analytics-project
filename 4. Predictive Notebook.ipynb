{
 "cells": [
  {
   "cell_type": "markdown",
   "metadata": {},
   "source": [
    "# Prediction Challenge #\n",
    "\n",
    "In this notebook the goal is to test a few different models for predicting the CLASE variable. The results are compared in the end and the best model is chosen. \n",
    "\n",
    "The first step as always is to import the necessary libraries and configure the settings of plots."
   ]
  },
  {
   "cell_type": "code",
   "execution_count": 1,
   "metadata": {},
   "outputs": [],
   "source": [
    "# Add the necessary libraries to use\n",
    "import numpy as np\n",
    "import pandas as pd\n",
    "\n",
    "# Necessary commands for the graphs to show up in the notebook on the correct format\n",
    "%matplotlib inline\n",
    "import matplotlib.pyplot as plt\n",
    "\n",
    "#matplotlib style options\n",
    "plt.style.use('ggplot')\n",
    "plt.rcParams['figure.figsize'] = (15, 8)\n",
    "plt.style.use('ggplot')\n",
    "plt.rcParams['figure.figsize'] = (15, 8)"
   ]
  },
  {
   "cell_type": "markdown",
   "metadata": {},
   "source": [
    "## 1. Read in data\n",
    "\n",
    "The data used for the prediction challenge is the same dataset that was prepared in the \"Descriptive Statics\" and \"Additional dataset\" notebooks. It containes the provided housing dataset augmented with columns from the additional dataset relating to the number of Points of Interest in the area and the distance to the closest types of points of interest. The dataset contains 17.830 observations."
   ]
  },
  {
   "cell_type": "code",
   "execution_count": 2,
   "metadata": {},
   "outputs": [],
   "source": [
    "df = pd.read_csv(\"combined_data.csv\")"
   ]
  },
  {
   "cell_type": "code",
   "execution_count": 3,
   "metadata": {},
   "outputs": [
    {
     "data": {
      "text/plain": [
       "17830"
      ]
     },
     "execution_count": 3,
     "metadata": {},
     "output_type": "execute_result"
    }
   ],
   "source": [
    "len(df)"
   ]
  },
  {
   "cell_type": "markdown",
   "metadata": {},
   "source": [
    "## 2. Clean up outliers"
   ]
  },
  {
   "cell_type": "markdown",
   "metadata": {},
   "source": [
    "Before the dataset was used as input in prediction models it was necessary to check if the dataset contained any outliers that could impact the performance of prediction models. Some machine learning models can be very sensitive to outliers and therefore it is always necessary to check and clean the data.\n",
    "\n",
    "In this case the columns that were thought to contain outliers were collected into the **outlier_cols** list. These were selected based on the boxplots in the **Descriptive Statistics Notebook**.\n",
    "Then for each column the z-score for each observation within that column was computed. The z-score indicates the number of standard deviations that the observation deviates from the mean of the observations of the columns. Here the cutoff is defined as 3 standard deviations, so if the observations deviates more greatly from the mean it is considered to be an outlier."
   ]
  },
  {
   "cell_type": "code",
   "execution_count": 4,
   "metadata": {},
   "outputs": [],
   "source": [
    "#all columns with outliers according to box plot\n",
    "#outlier_cols = ['Acc_Servicios_tpte_pub', 'Acc_Comercio_auto', 'Acc_Educacion_auto' , 'Acc_Industria_auto',\n",
    "#               'Acc_Servicios_auto','Acc_Habitacion_auto',\n",
    "#                'Sup_Prom_Constr_Hab_EOD',\n",
    "# 'DensConstr_EOD',\n",
    "# 'Ingreso_Promedio_Zona_MM', 'MontoArr', 'IngresoHogar']\n",
    "\n",
    "\n",
    "#all columns with the most dramatic outliers\n",
    "outlier_cols = ['Acc_Habitacion_auto', 'MontoArr']"
   ]
  },
  {
   "cell_type": "code",
   "execution_count": 5,
   "metadata": {},
   "outputs": [],
   "source": [
    "from scipy import stats\n",
    "import numpy as np\n",
    "z = np.abs(stats.zscore(df[outlier_cols])) # Compute z-scores\n",
    "threshold = 3 # Define the threshold to be 3 standard deviations"
   ]
  },
  {
   "cell_type": "code",
   "execution_count": 6,
   "metadata": {},
   "outputs": [],
   "source": [
    "df_o = df[(z < threshold).all(axis=1)] # Filter the outliers from the dataset"
   ]
  },
  {
   "cell_type": "code",
   "execution_count": 7,
   "metadata": {},
   "outputs": [
    {
     "name": "stdout",
     "output_type": "stream",
     "text": [
      "Data with outliers:  17830\n",
      "Data without outliers:  17100\n"
     ]
    }
   ],
   "source": [
    "# Print the sizes of the dataframes\n",
    "print('Data with outliers: ', len(df))\n",
    "print('Data without outliers: ', len(df_o))"
   ]
  },
  {
   "cell_type": "markdown",
   "metadata": {},
   "source": [
    "According to this outlier detection method there are 730 observations that are outliers within the dataset. These outliers were removed and are excluded from the modelling. "
   ]
  },
  {
   "cell_type": "markdown",
   "metadata": {},
   "source": [
    "## 3. Reduce the dimensions of accessibility columns\n",
    "\n",
    "As seen in the **Descriptive Statistics Notebook** some of the features are highly correlated with each other. Because of this all of the attributes might not be needed to represent the information in the modelling. The accessability attributes will be examined with dimensionality reduction technique called Principal Component Analysis (PCA) in order to see if a different representation of the data in a lower dimensionality can account for a high variety in the data. It is important to standardize the dataset before PCA is performed, since the procedure is very sensitive to differences in scales between the different attributes of the dataset."
   ]
  },
  {
   "cell_type": "code",
   "execution_count": 8,
   "metadata": {},
   "outputs": [],
   "source": [
    "# Create a list of the accesibility columns\n",
    "acc_cols = ['Acc_Comercio_tpte_pub','Acc_Educacion_tpte_pub', 'Acc_Habitacion_tpte_pub',\n",
    "            'Acc_Industria_tpte_pub','Acc_Servicios_tpte_pub',\n",
    "            'Acc_Comercio_auto','Acc_Educacion_auto','Acc_Habitacion_auto',\n",
    "            'Acc_Industria_auto', 'Acc_Servicios_auto']"
   ]
  },
  {
   "cell_type": "code",
   "execution_count": 9,
   "metadata": {},
   "outputs": [
    {
     "data": {
      "text/plain": [
       "PCA(copy=True, iterated_power='auto', n_components=None, random_state=None,\n",
       "    svd_solver='auto', tol=0.0, whiten=False)"
      ]
     },
     "execution_count": 9,
     "metadata": {},
     "output_type": "execute_result"
    }
   ],
   "source": [
    "# Import the needed libraries\n",
    "from sklearn import decomposition\n",
    "from sklearn import preprocessing\n",
    "\n",
    "# Standardize the dataset\n",
    "data_scaled = pd.DataFrame(preprocessing.scale(df_o[acc_cols]),columns = acc_cols) \n",
    "\n",
    "# Performe PCA\n",
    "pca=decomposition.PCA()\n",
    "pca.fit(data_scaled)"
   ]
  },
  {
   "cell_type": "code",
   "execution_count": 10,
   "metadata": {},
   "outputs": [
    {
     "data": {
      "image/png": "[encoded data removed]",
      "text/plain": [
       "<Figure size 432x288 with 1 Axes>"
      ]
     },
     "metadata": {
      "needs_background": "light"
     },
     "output_type": "display_data"
    }
   ],
   "source": [
    "# Plot the variance explained graph\n",
    "expl=pca.explained_variance_ratio_\n",
    "cdf=[sum(expl[:i+1]) for i in range(len(expl))]\n",
    "plt.plot(range(len(expl)), cdf);"
   ]
  },
  {
   "cell_type": "code",
   "execution_count": 11,
   "metadata": {},
   "outputs": [
    {
     "data": {
      "text/plain": [
       "[0.8532265203729359,\n",
       " 0.947707220214131,\n",
       " 0.9757804306422578,\n",
       " 0.9953523989464002,\n",
       " 0.9975449587767293]"
      ]
     },
     "execution_count": 11,
     "metadata": {},
     "output_type": "execute_result"
    }
   ],
   "source": [
    "# See the values from the above plot\n",
    "cdf[:5]"
   ]
  },
  {
   "cell_type": "markdown",
   "metadata": {},
   "source": [
    "From the above plot it can be seen that with just the first two Principal Components 97.6% of the variance is explained. That way the accesability features can be reduced into two variables that will be used in the machine learning models."
   ]
  },
  {
   "cell_type": "code",
   "execution_count": 12,
   "metadata": {},
   "outputs": [],
   "source": [
    "# Add the new PCA columns to the dataset\n",
    "pca2 = decomposition.PCA(n_components=2)\n",
    "new_acc_cols = pd.DataFrame(pca2.fit_transform(data_scaled))"
   ]
  },
  {
   "cell_type": "code",
   "execution_count": 13,
   "metadata": {},
   "outputs": [],
   "source": [
    "# Rename the columns\n",
    "new_acc_cols = new_acc_cols.rename(columns = {0:'acc_1', 1:'acc_2'})"
   ]
  },
  {
   "cell_type": "code",
   "execution_count": 14,
   "metadata": {},
   "outputs": [],
   "source": [
    "# Create the new dataset without the acc_cols but with the new_acc_cols\n",
    "data = df_o[df_o.columns[~df_o.columns.isin(acc_cols)]].merge(new_acc_cols, left_index = True, right_index = True)"
   ]
  },
  {
   "cell_type": "markdown",
   "metadata": {},
   "source": [
    "The same procedure can be done on the Point of Interest columns that were added from the additional dataset. "
   ]
  },
  {
   "cell_type": "code",
   "execution_count": 15,
   "metadata": {},
   "outputs": [
    {
     "data": {
      "text/plain": [
       "PCA(copy=True, iterated_power='auto', n_components=None, random_state=None,\n",
       "    svd_solver='auto', tol=0.0, whiten=False)"
      ]
     },
     "execution_count": 15,
     "metadata": {},
     "output_type": "execute_result"
    }
   ],
   "source": [
    "# Collect the POIs columns together\n",
    "poi_cols = ['Nearest_Restaurant_km', 'Nr_Restaurants_5km',\n",
    "       'Nearest_School_km', 'Nr_Schools_5km', 'Nearest_Kindergarten_km',\n",
    "       'Nr_Kindergartens_5km', 'Nearest_Pharmacy_km', 'Nr_Pharmacies_5km',\n",
    "       'Nearest_Supermarket_km', 'Nr_Supermarkets_5km']\n",
    "\n",
    "# Scale the dataset\n",
    "data_scaled = pd.DataFrame(preprocessing.scale(df_o[poi_cols]),columns = poi_cols) \n",
    "\n",
    "# Apply PCA\n",
    "pca=decomposition.PCA()\n",
    "pca.fit(data_scaled)"
   ]
  },
  {
   "cell_type": "code",
   "execution_count": 16,
   "metadata": {},
   "outputs": [
    {
     "data": {
      "image/png": "[encoded data removed]",
      "text/plain": [
       "<Figure size 432x288 with 1 Axes>"
      ]
     },
     "metadata": {
      "needs_background": "light"
     },
     "output_type": "display_data"
    }
   ],
   "source": [
    "# Plot variance explained\n",
    "expl=pca.explained_variance_ratio_\n",
    "cdf=[sum(expl[:i+1]) for i in range(len(expl))]\n",
    "plt.plot(range(len(expl)), cdf);"
   ]
  },
  {
   "cell_type": "code",
   "execution_count": 17,
   "metadata": {},
   "outputs": [
    {
     "data": {
      "text/plain": [
       "[0.3578691326935681,\n",
       " 0.4948674348272144,\n",
       " 0.6083922162506563,\n",
       " 0.6909074820210286,\n",
       " 0.7666938841362552,\n",
       " 0.8242373285159272,\n",
       " 0.8769490353792813,\n",
       " 0.9260980152368076,\n",
       " 0.9639097849178482,\n",
       " 0.9999999999999999]"
      ]
     },
     "execution_count": 17,
     "metadata": {},
     "output_type": "execute_result"
    }
   ],
   "source": [
    "# Look at the values for the variance explained\n",
    "cdf[:10]"
   ]
  },
  {
   "cell_type": "markdown",
   "metadata": {},
   "source": [
    "From the above graph it can be seen that the columns give us additional information, so in order to explain more than 95% of the variance, the first 9 Principal Components would have to be used. Since the number of attributes is 10, the reduction in the number of features would be rather insignificant. Therefore all of the POI columns will be used in the modelling."
   ]
  },
  {
   "cell_type": "markdown",
   "metadata": {},
   "source": [
    "## 4. Create train/test split and standardize\n",
    "\n",
    "Based on the information from the **Descriptive Statistics Notebook** it is already known that the test/train division based on the coordinates will be problematic. The test set covers the city center and therefore isn't represented in the best possible way by the training set, so it might cause some issues in the predictions. However, this split will be used since it was specified in the challenge description.\n",
    "\n",
    "The features and target variable are defined based on the observations in the **Descriptive Statistics Notebook**. Then the test/train sets are standardized so that they would be ready for use in the modelling."
   ]
  },
  {
   "cell_type": "code",
   "execution_count": 18,
   "metadata": {},
   "outputs": [],
   "source": [
    "# Split the data into test/train set\n",
    "test = data[(data.Longitude <= -70.6) &(data.Longitude >= -70.7) &(data.Latitude <= -33.4) & (data.Latitude >= -33.5)]\n",
    "train = data[(data.Longitude > -70.6)|(data.Longitude < -70.7)|(data.Latitude > -33.4) | (data.Latitude < -33.5)]"
   ]
  },
  {
   "cell_type": "code",
   "execution_count": 19,
   "metadata": {},
   "outputs": [
    {
     "name": "stdout",
     "output_type": "stream",
     "text": [
      "Test data length: 2691\n",
      "Train data length: 13692\n",
      "Sum: 16383\n",
      "Test % of whole dataset: 0.16425563083684308\n"
     ]
    }
   ],
   "source": [
    "# Print info\n",
    "print('Test data length:', len(test))\n",
    "print('Train data length:',len(train))\n",
    "print('Sum:', len(test)+len(train))\n",
    "print('Test % of whole dataset:', len(test)/(len(test)+len(train)))"
   ]
  },
  {
   "cell_type": "code",
   "execution_count": 20,
   "metadata": {},
   "outputs": [
    {
     "data": {
      "text/html": [
       "<div>\n",
       "<style scoped>\n",
       "    .dataframe tbody tr th:only-of-type {\n",
       "        vertical-align: middle;\n",
       "    }\n",
       "\n",
       "    .dataframe tbody tr th {\n",
       "        vertical-align: top;\n",
       "    }\n",
       "\n",
       "    .dataframe thead th {\n",
       "        text-align: right;\n",
       "    }\n",
       "</style>\n",
       "<table border=\"1\" class=\"dataframe\">\n",
       "  <thead>\n",
       "    <tr style=\"text-align: right;\">\n",
       "      <th></th>\n",
       "      <th>Hogar</th>\n",
       "      <th>Sector</th>\n",
       "      <th>DirCoordX</th>\n",
       "      <th>DirCoordY</th>\n",
       "      <th>MontoArr</th>\n",
       "      <th>IngresoHogar</th>\n",
       "      <th>Factor</th>\n",
       "      <th>AnosEstudio</th>\n",
       "      <th>CLASE</th>\n",
       "      <th>Sup_Prom_Constr_Hab_EOD</th>\n",
       "      <th>...</th>\n",
       "      <th>Nearest_School_km</th>\n",
       "      <th>Nr_Schools_5km</th>\n",
       "      <th>Nearest_Kindergarten_km</th>\n",
       "      <th>Nr_Kindergartens_5km</th>\n",
       "      <th>Nearest_Pharmacy_km</th>\n",
       "      <th>Nr_Pharmacies_5km</th>\n",
       "      <th>Nearest_Supermarket_km</th>\n",
       "      <th>Nr_Supermarkets_5km</th>\n",
       "      <th>acc_1</th>\n",
       "      <th>acc_2</th>\n",
       "    </tr>\n",
       "  </thead>\n",
       "  <tbody>\n",
       "    <tr>\n",
       "      <th>0</th>\n",
       "      <td>100010</td>\n",
       "      <td>7</td>\n",
       "      <td>335180.8019</td>\n",
       "      <td>-3733579.025</td>\n",
       "      <td>100000</td>\n",
       "      <td>450845</td>\n",
       "      <td>136.393738</td>\n",
       "      <td>11</td>\n",
       "      <td>1</td>\n",
       "      <td>53.8</td>\n",
       "      <td>...</td>\n",
       "      <td>0.428810</td>\n",
       "      <td>3</td>\n",
       "      <td>3.291016</td>\n",
       "      <td>1</td>\n",
       "      <td>0.401852</td>\n",
       "      <td>3</td>\n",
       "      <td>0.382922</td>\n",
       "      <td>2</td>\n",
       "      <td>5.359134</td>\n",
       "      <td>1.297806</td>\n",
       "    </tr>\n",
       "    <tr>\n",
       "      <th>1</th>\n",
       "      <td>100020</td>\n",
       "      <td>7</td>\n",
       "      <td>338410.2114</td>\n",
       "      <td>-3734392.859</td>\n",
       "      <td>120000</td>\n",
       "      <td>1019369</td>\n",
       "      <td>73.843597</td>\n",
       "      <td>11</td>\n",
       "      <td>1</td>\n",
       "      <td>59.6</td>\n",
       "      <td>...</td>\n",
       "      <td>0.441469</td>\n",
       "      <td>3</td>\n",
       "      <td>0.931185</td>\n",
       "      <td>2</td>\n",
       "      <td>0.545372</td>\n",
       "      <td>2</td>\n",
       "      <td>0.641999</td>\n",
       "      <td>2</td>\n",
       "      <td>5.359134</td>\n",
       "      <td>1.297806</td>\n",
       "    </tr>\n",
       "    <tr>\n",
       "      <th>2</th>\n",
       "      <td>100030</td>\n",
       "      <td>7</td>\n",
       "      <td>327863.8248</td>\n",
       "      <td>-3742199.914</td>\n",
       "      <td>70000</td>\n",
       "      <td>80000</td>\n",
       "      <td>180.722809</td>\n",
       "      <td>10</td>\n",
       "      <td>1</td>\n",
       "      <td>59.5</td>\n",
       "      <td>...</td>\n",
       "      <td>7.423389</td>\n",
       "      <td>0</td>\n",
       "      <td>7.173717</td>\n",
       "      <td>0</td>\n",
       "      <td>11.434518</td>\n",
       "      <td>0</td>\n",
       "      <td>7.192890</td>\n",
       "      <td>0</td>\n",
       "      <td>5.359134</td>\n",
       "      <td>1.297806</td>\n",
       "    </tr>\n",
       "    <tr>\n",
       "      <th>3</th>\n",
       "      <td>100041</td>\n",
       "      <td>7</td>\n",
       "      <td>327864.0000</td>\n",
       "      <td>-3742200.000</td>\n",
       "      <td>80000</td>\n",
       "      <td>559259</td>\n",
       "      <td>150.379059</td>\n",
       "      <td>14</td>\n",
       "      <td>2</td>\n",
       "      <td>59.5</td>\n",
       "      <td>...</td>\n",
       "      <td>7.423479</td>\n",
       "      <td>0</td>\n",
       "      <td>7.173814</td>\n",
       "      <td>0</td>\n",
       "      <td>11.434464</td>\n",
       "      <td>0</td>\n",
       "      <td>7.192984</td>\n",
       "      <td>0</td>\n",
       "      <td>5.359134</td>\n",
       "      <td>1.297806</td>\n",
       "    </tr>\n",
       "    <tr>\n",
       "      <th>4</th>\n",
       "      <td>100052</td>\n",
       "      <td>7</td>\n",
       "      <td>338480.8152</td>\n",
       "      <td>-3732703.059</td>\n",
       "      <td>117771</td>\n",
       "      <td>710309</td>\n",
       "      <td>122.001518</td>\n",
       "      <td>12</td>\n",
       "      <td>2</td>\n",
       "      <td>43.6</td>\n",
       "      <td>...</td>\n",
       "      <td>0.765914</td>\n",
       "      <td>5</td>\n",
       "      <td>0.077181</td>\n",
       "      <td>2</td>\n",
       "      <td>1.161782</td>\n",
       "      <td>4</td>\n",
       "      <td>0.880952</td>\n",
       "      <td>2</td>\n",
       "      <td>5.359134</td>\n",
       "      <td>1.297806</td>\n",
       "    </tr>\n",
       "  </tbody>\n",
       "</table>\n",
       "<p>5 rows × 33 columns</p>\n",
       "</div>"
      ],
      "text/plain": [
       "    Hogar  Sector    DirCoordX    DirCoordY  MontoArr  IngresoHogar  \\\n",
       "0  100010       7  335180.8019 -3733579.025    100000        450845   \n",
       "1  100020       7  338410.2114 -3734392.859    120000       1019369   \n",
       "2  100030       7  327863.8248 -3742199.914     70000         80000   \n",
       "3  100041       7  327864.0000 -3742200.000     80000        559259   \n",
       "4  100052       7  338480.8152 -3732703.059    117771        710309   \n",
       "\n",
       "       Factor  AnosEstudio  CLASE  Sup_Prom_Constr_Hab_EOD  ...  \\\n",
       "0  136.393738           11      1                     53.8  ...   \n",
       "1   73.843597           11      1                     59.6  ...   \n",
       "2  180.722809           10      1                     59.5  ...   \n",
       "3  150.379059           14      2                     59.5  ...   \n",
       "4  122.001518           12      2                     43.6  ...   \n",
       "\n",
       "   Nearest_School_km  Nr_Schools_5km  Nearest_Kindergarten_km  \\\n",
       "0           0.428810               3                 3.291016   \n",
       "1           0.441469               3                 0.931185   \n",
       "2           7.423389               0                 7.173717   \n",
       "3           7.423479               0                 7.173814   \n",
       "4           0.765914               5                 0.077181   \n",
       "\n",
       "   Nr_Kindergartens_5km  Nearest_Pharmacy_km  Nr_Pharmacies_5km  \\\n",
       "0                     1             0.401852                  3   \n",
       "1                     2             0.545372                  2   \n",
       "2                     0            11.434518                  0   \n",
       "3                     0            11.434464                  0   \n",
       "4                     2             1.161782                  4   \n",
       "\n",
       "   Nearest_Supermarket_km  Nr_Supermarkets_5km     acc_1     acc_2  \n",
       "0                0.382922                    2  5.359134  1.297806  \n",
       "1                0.641999                    2  5.359134  1.297806  \n",
       "2                7.192890                    0  5.359134  1.297806  \n",
       "3                7.192984                    0  5.359134  1.297806  \n",
       "4                0.880952                    2  5.359134  1.297806  \n",
       "\n",
       "[5 rows x 33 columns]"
      ]
     },
     "execution_count": 20,
     "metadata": {},
     "output_type": "execute_result"
    }
   ],
   "source": [
    "# Look at the first few lines in the dataset\n",
    "data.head()"
   ]
  },
  {
   "cell_type": "code",
   "execution_count": 21,
   "metadata": {},
   "outputs": [],
   "source": [
    "X_cols = ['MontoArr', 'Sup_Prom_Constr_Hab_EOD', 'Calid_EOD_norm_inv', 'DensConstr_EOD',\n",
    "          'Tiempo_Com_Stgo', 'Ingreso_Promedio_Zona_MM', 'acc_1','acc_2',\n",
    "         'Nearest_Restaurant_km', 'Nr_Restaurants_5km',\n",
    "       'Nearest_School_km', 'Nr_Schools_5km', 'Nearest_Kindergarten_km',\n",
    "       'Nr_Kindergartens_5km', 'Nearest_Pharmacy_km', 'Nr_Pharmacies_5km',\n",
    "       'Nearest_Supermarket_km', 'Nr_Supermarkets_5km']\n",
    "\n",
    "#X_cols = X_cols.extend(poi_cols)\n",
    "Y_col = ['CLASE']"
   ]
  },
  {
   "cell_type": "code",
   "execution_count": 22,
   "metadata": {},
   "outputs": [],
   "source": [
    "#creating training and test sets\n",
    "X_train = train[X_cols]\n",
    "y_train = train[Y_col]\n",
    "X_test = test[X_cols]\n",
    "y_test = test[Y_col]\n",
    "\n",
    "#standardizing training and test sets\n",
    "X_mean = X_train.mean(axis=0)\n",
    "X_std = X_train.std(axis=0)\n",
    "X_train = (X_train - X_mean) / X_std\n",
    "X_test = (X_test - X_mean) / X_std"
   ]
  },
  {
   "cell_type": "markdown",
   "metadata": {},
   "source": [
    "## 5. Define functions predicting and evaluating predictions\n",
    "In order to be able to evaluate the performance of the machine learning models the following functions are defined. \n",
    "The function **evaluate** evaluates and prints the performance of the model. The function **plot_confusion_matrix** plots the confusion matrix, showing a matrix of the actual vs. predicted classes, that highlights where the model is going wrong."
   ]
  },
  {
   "cell_type": "code",
   "execution_count": 23,
   "metadata": {},
   "outputs": [],
   "source": [
    "###### copied from Nuts and bolts of ML (lecture 7) #####\n",
    "from sklearn.metrics import confusion_matrix, recall_score, accuracy_score, precision_score\n",
    "\n",
    "# function to evaluate predictions\n",
    "def evaluate(y_true, y_pred, print_cm=False):\n",
    "    # calculate and display confusion matrix\n",
    "    labels = np.unique(y_true)\n",
    "    cm = confusion_matrix(y_true, y_pred, labels=labels)\n",
    "    if print_cm:\n",
    "        print('Confusion matrix\\n- x-axis is true labels (none, comp1, etc.)\\n- y-axis is predicted labels')\n",
    "        print(cm)\n",
    "\n",
    "    # calculate precision, recall, and F1 score\n",
    "    accuracy = float(np.trace(cm)) / np.sum(cm)\n",
    "    precision = precision_score(y_true, y_pred, average=None, labels=labels)[1]\n",
    "    recall = recall_score(y_true, y_pred, average=None, labels=labels)[1]\n",
    "    f1 = 2 * precision * recall / (precision + recall)\n",
    "    print(\"accuracy:\", accuracy)\n",
    "    print(\"precision:\", precision)\n",
    "    print(\"recall:\", recall)\n",
    "    print(\"f1 score:\", f1)\n",
    "    return[accuracy, precision, recall, f1]"
   ]
  },
  {
   "cell_type": "code",
   "execution_count": 24,
   "metadata": {},
   "outputs": [],
   "source": [
    "####### Reference: https://scikit-learn.org/stable/auto_examples/model_selection/plot_confusion_matrix.html #######\n",
    "# plotting the confusion matrix\n",
    "\n",
    "from sklearn.metrics import confusion_matrix\n",
    "from sklearn.utils.multiclass import unique_labels\n",
    "\n",
    "def plot_confusion_matrix(y_true, y_pred,\n",
    "                          title=None,\n",
    "                          cmap=plt.cm.Blues):\n",
    "\n",
    "    # Compute confusion matrix\n",
    "    cm = confusion_matrix(y_true, y_pred)\n",
    "    #print(cm)\n",
    "    \n",
    "    classes = ['CLASE 1','CLASE 2', 'CLASE 3']\n",
    "\n",
    "    fig, ax = plt.subplots()\n",
    "    im = ax.imshow(cm, interpolation='nearest', cmap=cmap)\n",
    "    ax.figure.colorbar(im, ax=ax)\n",
    "    # We want to show all ticks...\n",
    "    ax.set(xticks=np.arange(cm.shape[1]),\n",
    "           yticks=np.arange(cm.shape[0]),\n",
    "           # ... and label them with the respective list entries\n",
    "           xticklabels=classes, yticklabels=classes,\n",
    "           title=title,\n",
    "           ylabel='True label',\n",
    "           xlabel='Predicted label')\n",
    "\n",
    "    # Rotate the tick labels and set their alignment.\n",
    "    plt.setp(ax.get_xticklabels(), rotation=45, ha=\"right\",\n",
    "             rotation_mode=\"anchor\")\n",
    "\n",
    "    # Loop over data dimensions and create text annotations.\n",
    "    fmt = 'd'\n",
    "    thresh = cm.max() / 2.\n",
    "    for i in range(cm.shape[0]):\n",
    "        for j in range(cm.shape[1]):\n",
    "            ax.text(j, i, format(cm[i, j], fmt),\n",
    "                    ha=\"center\", va=\"center\",\n",
    "                    color=\"white\" if cm[i, j] > thresh else \"black\")\n",
    "    fig.tight_layout()\n",
    "    return ax"
   ]
  },
  {
   "cell_type": "markdown",
   "metadata": {},
   "source": [
    "## 6. Testing different models for prediction"
   ]
  },
  {
   "cell_type": "markdown",
   "metadata": {},
   "source": [
    "There are multiple different models that can be used for a classification probelm. In this case, the target variable has three possible classes. First a baseline model is defined, so that the other models can be compared to that. The accuracy measures for each model are combined in a results-dataframe for easier comparison. "
   ]
  },
  {
   "cell_type": "markdown",
   "metadata": {},
   "source": [
    "### Baseline model: Logistic Regression\n",
    "The model chosen as the baseline is logistic regression with l2-regulazation. It's important to fight against overfitting, since we know that the training set and test set are quite different."
   ]
  },
  {
   "cell_type": "code",
   "execution_count": 25,
   "metadata": {},
   "outputs": [
    {
     "name": "stdout",
     "output_type": "stream",
     "text": [
      "- Train set results:\n",
      "accuracy: 0.5712094653812445\n",
      "precision: 0.537463976945245\n",
      "recall: 0.5519565932259125\n",
      "f1 score: 0.5446138870863076\n",
      "- Test set results:\n",
      "accuracy: 0.5031586770717206\n",
      "precision: 0.47567114093959734\n",
      "recall: 0.48091603053435117\n",
      "f1 score: 0.47827920708561794\n"
     ]
    },
    {
     "name": "stderr",
     "output_type": "stream",
     "text": [
      "/Users/kristin/anaconda3/lib/python3.7/site-packages/sklearn/linear_model/logistic.py:432: FutureWarning: Default solver will be changed to 'lbfgs' in 0.22. Specify a solver to silence this warning.\n",
      "  FutureWarning)\n",
      "/Users/kristin/anaconda3/lib/python3.7/site-packages/sklearn/utils/validation.py:724: DataConversionWarning: A column-vector y was passed when a 1d array was expected. Please change the shape of y to (n_samples, ), for example using ravel().\n",
      "  y = column_or_1d(y, warn=True)\n",
      "/Users/kristin/anaconda3/lib/python3.7/site-packages/sklearn/linear_model/logistic.py:469: FutureWarning: Default multi_class will be changed to 'auto' in 0.22. Specify the multi_class option to silence this warning.\n",
      "  \"this warning.\", FutureWarning)\n"
     ]
    }
   ],
   "source": [
    "from sklearn.linear_model import LogisticRegression\n",
    "\n",
    "# estimate model on trainset\n",
    "lr = LogisticRegression(random_state=42, C = 0.1)\n",
    "lr.fit(X_train, y_train)\n",
    "\n",
    "# make predictions\n",
    "y_pred_train = lr.predict(X_train)\n",
    "y_pred_test = lr.predict(X_test)\n",
    "\n",
    "print(\"- Train set results:\")\n",
    "lr_train_results = evaluate(y_train, y_pred_train, print_cm = False)\n",
    "print(\"- Test set results:\")\n",
    "lr_test_results = evaluate(y_test, y_pred_test, print_cm = False)"
   ]
  },
  {
   "cell_type": "markdown",
   "metadata": {},
   "source": [
    "As expected, the results on the test set are worse than the results on the training set. In addition, we can see that the accuarcy even on the training set is quite low, below 60%. Let's create a dataframe for storing all the results, so that it's easier to compare them in the end."
   ]
  },
  {
   "cell_type": "code",
   "execution_count": 26,
   "metadata": {},
   "outputs": [],
   "source": [
    "#creating a new dataframe for the results\n",
    "results = pd.DataFrame(['accuracy', 'precision', 'recall', 'f1_score'])"
   ]
  },
  {
   "cell_type": "code",
   "execution_count": 27,
   "metadata": {},
   "outputs": [],
   "source": [
    "#adding the results of the baseline model to the dataframe\n",
    "results['LogReg-train-l2'] = lr_train_results\n",
    "results['LogReg-test-l2'] = lr_test_results\n",
    "results = results.set_index(0)"
   ]
  },
  {
   "cell_type": "markdown",
   "metadata": {},
   "source": [
    "Let's have a look at the confusion matrix for the baseline model."
   ]
  },
  {
   "cell_type": "code",
   "execution_count": 28,
   "metadata": {},
   "outputs": [
    {
     "data": {
      "image/png": "[encoded data removed]",
      "text/plain": [
       "<Figure size 432x288 with 2 Axes>"
      ]
     },
     "metadata": {
      "needs_background": "light"
     },
     "output_type": "display_data"
    }
   ],
   "source": [
    "plot_confusion_matrix(y_test, y_pred_test, title = 'Confusion matrix for Logistic Regression');"
   ]
  },
  {
   "cell_type": "markdown",
   "metadata": {},
   "source": [
    "From the confusion matrix we can see that the model predicts CLASE 1 quite well, since the majority get the correct label. In the case of CLASE 2 and CLASE 3, in over half of the cases the predicted label is wrong. Let's have a look at the coefficients of the features to gain a better understanding of the model. Because CLASE has three possible values, each class has a coefficient vector. For CLASE 1 the coefficients are presented below."
   ]
  },
  {
   "cell_type": "code",
   "execution_count": 29,
   "metadata": {},
   "outputs": [
    {
     "name": "stdout",
     "output_type": "stream",
     "text": [
      "Coefficients for CLASE 1\n",
      "MontoArr=-0.932\n",
      "Sup_Prom_Constr_Hab_EOD=-0.023\n",
      "Calid_EOD_norm_inv=0.008\n",
      "DensConstr_EOD=-0.056\n",
      "Tiempo_Com_Stgo=0.011\n",
      "Ingreso_Promedio_Zona_MM=-0.659\n",
      "acc_1=-0.026\n",
      "acc_2=-0.015\n",
      "Nearest_Restaurant_km=-0.026\n",
      "Nr_Restaurants_5km=0.077\n",
      "Nearest_School_km=0.093\n",
      "Nr_Schools_5km=0.050\n",
      "Nearest_Kindergarten_km=-0.028\n",
      "Nr_Kindergartens_5km=-0.037\n",
      "Nearest_Pharmacy_km=-0.027\n",
      "Nr_Pharmacies_5km=0.035\n",
      "Nearest_Supermarket_km=0.038\n",
      "Nr_Supermarkets_5km=-0.001\n"
     ]
    }
   ],
   "source": [
    "#lets examine the coefficients\n",
    "print('Coefficients for CLASE 1')\n",
    "for cname, val in zip(X_train.columns, lr.coef_.tolist()[0]):\n",
    "    print(\"%s=%.3f\"%(cname, val))"
   ]
  },
  {
   "cell_type": "code",
   "execution_count": 30,
   "metadata": {},
   "outputs": [
    {
     "name": "stdout",
     "output_type": "stream",
     "text": [
      "MontoArr coefficient for CLASE 1: -0.9318229956660335\n",
      "MontoArr coefficient for CLASE 2: -0.007496634166508495\n",
      "MontoArr coefficient for CLASE 3: 0.7734507894464684\n"
     ]
    }
   ],
   "source": [
    "print('MontoArr coefficient for CLASE 1:', lr.coef_.tolist()[0][0])\n",
    "print('MontoArr coefficient for CLASE 2:', lr.coef_.tolist()[1][0])\n",
    "print('MontoArr coefficient for CLASE 3:', lr.coef_.tolist()[2][0])"
   ]
  },
  {
   "cell_type": "markdown",
   "metadata": {},
   "source": [
    "From the coefficients of CLASE 1, we can see that MontoArr, i.e. the rent of the property, has the biggest coefficient in absolute value. To understand the effect of MontoArr on the results, we have to examine the coefficients for each category separately. Having a negative coefficient means that the event becomes more unlikely when the feature increases. This makes sense, because CLASE 1 includes the households with the lowest level of education, so they might have a lower salary and be less likely to afford a house with a high rent. For CLASE 3 the effect is the opposite."
   ]
  },
  {
   "cell_type": "markdown",
   "metadata": {},
   "source": [
    "### Model 2: Logistic regression with l1 regulizer\n",
    "Next we will try to use logistic regression with the l1 regulizer. Here the goal is to give weights of 0 for the irrelevant features. "
   ]
  },
  {
   "cell_type": "code",
   "execution_count": 31,
   "metadata": {},
   "outputs": [
    {
     "name": "stdout",
     "output_type": "stream",
     "text": [
      "- Train set results:\n",
      "accuracy: 0.5713555360794624\n",
      "precision: 0.5373517152933632\n",
      "recall: 0.5511344952318317\n",
      "f1 score: 0.5441558441558441\n",
      "- Test set results:\n",
      "accuracy: 0.49498327759197325\n",
      "precision: 0.4710526315789474\n",
      "recall: 0.455470737913486\n",
      "f1 score: 0.463130659767141\n"
     ]
    },
    {
     "name": "stderr",
     "output_type": "stream",
     "text": [
      "/Users/kristin/anaconda3/lib/python3.7/site-packages/sklearn/linear_model/logistic.py:432: FutureWarning: Default solver will be changed to 'lbfgs' in 0.22. Specify a solver to silence this warning.\n",
      "  FutureWarning)\n",
      "/Users/kristin/anaconda3/lib/python3.7/site-packages/sklearn/utils/validation.py:724: DataConversionWarning: A column-vector y was passed when a 1d array was expected. Please change the shape of y to (n_samples, ), for example using ravel().\n",
      "  y = column_or_1d(y, warn=True)\n",
      "/Users/kristin/anaconda3/lib/python3.7/site-packages/sklearn/linear_model/logistic.py:469: FutureWarning: Default multi_class will be changed to 'auto' in 0.22. Specify the multi_class option to silence this warning.\n",
      "  \"this warning.\", FutureWarning)\n"
     ]
    }
   ],
   "source": [
    "# estimate model on trainset\n",
    "lr2 = LogisticRegression(random_state=42, C = 0.1, penalty = 'l1')\n",
    "lr2.fit(X_train, y_train)\n",
    "\n",
    "# make predictions\n",
    "y_pred_train = lr2.predict(X_train)\n",
    "y_pred_test = lr2.predict(X_test)\n",
    "\n",
    "print(\"- Train set results:\")\n",
    "results['LogReg-train-l1'] = evaluate(y_train, y_pred_train, print_cm = False)\n",
    "print(\"- Test set results:\")\n",
    "results['LogReg-test-l1'] = evaluate(y_test, y_pred_test, print_cm = False)"
   ]
  },
  {
   "cell_type": "code",
   "execution_count": 32,
   "metadata": {},
   "outputs": [
    {
     "data": {
      "image/png": "[encoded data removed]",
      "text/plain": [
       "<Figure size 432x288 with 2 Axes>"
      ]
     },
     "metadata": {
      "needs_background": "light"
     },
     "output_type": "display_data"
    }
   ],
   "source": [
    "plot_confusion_matrix(y_test, y_pred_test, title = 'Confusion matrix for Logistic Regression with l1');"
   ]
  },
  {
   "cell_type": "markdown",
   "metadata": {},
   "source": [
    "The results seem quite similar to the baseline model. Let's see which features were deemed irrelevant by the model for each CLASE."
   ]
  },
  {
   "cell_type": "code",
   "execution_count": 33,
   "metadata": {},
   "outputs": [
    {
     "name": "stdout",
     "output_type": "stream",
     "text": [
      "Features of CLASE 1\n",
      "Feature Nr_Supermarkets_5km is irrelevant\n",
      "\n",
      "Features of CLASE 2\n",
      "Feature Nearest_Pharmacy_km is irrelevant\n",
      "\n",
      "Features of CLASE 3\n",
      "Feature DensConstr_EOD is irrelevant\n",
      "Feature acc_1 is irrelevant\n",
      "Feature Nearest_Pharmacy_km is irrelevant\n",
      "Feature Nr_Pharmacies_5km is irrelevant\n",
      "\n"
     ]
    }
   ],
   "source": [
    "#Lets check which features are irrelevant\n",
    "for i in range(len(lr2.coef_)):\n",
    "    print('Features of CLASE', i+1)\n",
    "    for j in range(len(X_cols)):\n",
    "        if lr2.coef_[i][j] == 0:\n",
    "            print(\"Feature %s is irrelevant\" % (X_cols[j],))\n",
    "    print('')"
   ]
  },
  {
   "cell_type": "markdown",
   "metadata": {},
   "source": [
    "### Model 3: Support Vector Machines\n",
    "Let's next try to use support vector machines to predict the labels. The goal of support vector machines is the maximize the separation margin between the classes. "
   ]
  },
  {
   "cell_type": "code",
   "execution_count": 34,
   "metadata": {},
   "outputs": [
    {
     "name": "stderr",
     "output_type": "stream",
     "text": [
      "/Users/kristin/anaconda3/lib/python3.7/site-packages/sklearn/utils/validation.py:724: DataConversionWarning: A column-vector y was passed when a 1d array was expected. Please change the shape of y to (n_samples, ), for example using ravel().\n",
      "  y = column_or_1d(y, warn=True)\n",
      "/Users/kristin/anaconda3/lib/python3.7/site-packages/sklearn/svm/base.py:193: FutureWarning: The default value of gamma will change from 'auto' to 'scale' in version 0.22 to account better for unscaled features. Set gamma explicitly to 'auto' or 'scale' to avoid this warning.\n",
      "  \"avoid this warning.\", FutureWarning)\n"
     ]
    },
    {
     "name": "stdout",
     "output_type": "stream",
     "text": [
      "- Train set results:\n",
      "accuracy: 0.6067046450482033\n",
      "precision: 0.5706291591046582\n",
      "recall: 0.6203551463334429\n",
      "f1 score: 0.5944540727902946\n",
      "- Test set results:\n",
      "accuracy: 0.5180230397621702\n",
      "precision: 0.4892904953145917\n",
      "recall: 0.620016963528414\n",
      "f1 score: 0.5469509913954359\n"
     ]
    }
   ],
   "source": [
    "from sklearn.svm import SVC\n",
    "sv = SVC()\n",
    "\n",
    "sv.fit(X_train, y_train)\n",
    "\n",
    "y_pred_train = sv.predict(X_train)\n",
    "y_pred_test = sv.predict(X_test)\n",
    "\n",
    "print(\"- Train set results:\")\n",
    "results['SVC-train'] = evaluate(y_train, y_pred_train, print_cm = False)\n",
    "print(\"- Test set results:\")\n",
    "results['SVC-test'] = evaluate(y_test, y_pred_test, print_cm = False)"
   ]
  },
  {
   "cell_type": "code",
   "execution_count": 35,
   "metadata": {},
   "outputs": [
    {
     "data": {
      "image/png": "[encoded data removed]",
      "text/plain": [
       "<Figure size 432x288 with 2 Axes>"
      ]
     },
     "metadata": {
      "needs_background": "light"
     },
     "output_type": "display_data"
    }
   ],
   "source": [
    "plot_confusion_matrix(y_test, y_pred_test, title = 'Confusion matrix for Support Vector Machines');"
   ]
  },
  {
   "cell_type": "markdown",
   "metadata": {},
   "source": [
    "The results on the total level seem slightly better than the baseline. When we look at the correlation matrix, we can see some problems. CLASE 2 is predicted very well, but for the majority (i.e. over a half of the cases) of CLASE 1 the model predicts CLASE 2, and for the majority of CLASE 3 the model also predicts CLASE 2. Support vector machines can be difficult to use in modelling if the data is not linearly separable, and having such high dimensions as we do, it can be difficult to find the correct separation vectors."
   ]
  },
  {
   "cell_type": "markdown",
   "metadata": {},
   "source": [
    "### Model 4: KNeighbors classifier\n",
    "Instead of trying to find vectors to separate the classes, let's see if finding similar points with KNeighbors classifier. "
   ]
  },
  {
   "cell_type": "code",
   "execution_count": 36,
   "metadata": {},
   "outputs": [
    {
     "name": "stderr",
     "output_type": "stream",
     "text": [
      "/Users/kristin/anaconda3/lib/python3.7/site-packages/ipykernel_launcher.py:4: DataConversionWarning: A column-vector y was passed when a 1d array was expected. Please change the shape of y to (n_samples, ), for example using ravel().\n",
      "  after removing the cwd from sys.path.\n"
     ]
    },
    {
     "name": "stdout",
     "output_type": "stream",
     "text": [
      "- Train set results:\n",
      "accuracy: 0.5893222319602688\n",
      "precision: 0.5636947791164658\n",
      "recall: 0.5769483722459717\n",
      "f1 score: 0.5702445762574144\n",
      "- Test set results:\n",
      "accuracy: 0.5187662578966927\n",
      "precision: 0.51252408477842\n",
      "recall: 0.45122985581000846\n",
      "f1 score: 0.4799278304014434\n"
     ]
    }
   ],
   "source": [
    "from sklearn.neighbors import KNeighborsClassifier\n",
    "kn = KNeighborsClassifier(n_neighbors=40)\n",
    "\n",
    "kn.fit(X_train, y_train)\n",
    "\n",
    "y_pred_train = kn.predict(X_train)\n",
    "y_pred_test = kn.predict(X_test)\n",
    "\n",
    "print(\"- Train set results:\")\n",
    "results['KNN-train'] = evaluate(y_train, y_pred_train, print_cm = False)\n",
    "print(\"- Test set results:\")\n",
    "results['KNN-test'] = evaluate(y_test, y_pred_test, print_cm = False)"
   ]
  },
  {
   "cell_type": "code",
   "execution_count": 37,
   "metadata": {},
   "outputs": [
    {
     "data": {
      "image/png": "[encoded data removed]",
      "text/plain": [
       "<Figure size 432x288 with 2 Axes>"
      ]
     },
     "metadata": {
      "needs_background": "light"
     },
     "output_type": "display_data"
    }
   ],
   "source": [
    "plot_confusion_matrix(y_test, y_pred_test, title = 'Confusion matrix for KNN');"
   ]
  },
  {
   "cell_type": "markdown",
   "metadata": {},
   "source": [
    "The KNN model seems to have a a slightly better accuracy compared to the baseline. From the confusion matrix we can see that the classification of CLASE 3 has improved, so that the majority of the predictions are accurate. For CLASE 1 slightly over 50% of predictions are correct. However, for CLASE 2 the predicted labels are wrong in over half of the cases."
   ]
  },
  {
   "cell_type": "markdown",
   "metadata": {},
   "source": [
    "### Model 4: Random forest\n",
    "The next model we will test is a random forest. A random forest is a system of k decision trees that have been built based on k subsets of the dataset. For prediction, the whole forest is used and the output is decided based on the majority."
   ]
  },
  {
   "cell_type": "code",
   "execution_count": 38,
   "metadata": {},
   "outputs": [
    {
     "name": "stderr",
     "output_type": "stream",
     "text": [
      "/Users/kristin/anaconda3/lib/python3.7/site-packages/ipykernel_launcher.py:5: DataConversionWarning: A column-vector y was passed when a 1d array was expected. Please change the shape of y to (n_samples,), for example using ravel().\n",
      "  \"\"\"\n"
     ]
    },
    {
     "name": "stdout",
     "output_type": "stream",
     "text": [
      "- Train set results:\n",
      "accuracy: 0.9671340929009641\n",
      "precision: 0.9740759324301723\n",
      "recall: 0.9575797435054259\n",
      "f1 score: 0.9657573998839233\n",
      "- Test set results:\n",
      "accuracy: 0.4845782237086585\n",
      "precision: 0.49536178107606677\n",
      "recall: 0.4529262086513995\n",
      "f1 score: 0.4731945059813912\n"
     ]
    }
   ],
   "source": [
    "from sklearn.ensemble import RandomForestClassifier\n",
    "k=8\n",
    "rf = RandomForestClassifier(n_estimators =k )\n",
    "\n",
    "rf.fit(X_train, y_train)\n",
    "\n",
    "y_pred_train = rf.predict(X_train)\n",
    "y_pred_test = rf.predict(X_test)\n",
    "\n",
    "print(\"- Train set results:\")\n",
    "results['RandomForest-train'] = evaluate(y_train, y_pred_train, print_cm = False)\n",
    "print(\"- Test set results:\")\n",
    "results['RandomForest-test'] = evaluate(y_test, y_pred_test, print_cm = False)"
   ]
  },
  {
   "cell_type": "code",
   "execution_count": 39,
   "metadata": {},
   "outputs": [
    {
     "data": {
      "image/png": "[encoded data removed]",
      "text/plain": [
       "<Figure size 432x288 with 2 Axes>"
      ]
     },
     "metadata": {
      "needs_background": "light"
     },
     "output_type": "display_data"
    }
   ],
   "source": [
    "plot_confusion_matrix(y_test, y_pred_test, title = 'Confusion matrix for Random Forest');"
   ]
  },
  {
   "cell_type": "markdown",
   "metadata": {},
   "source": [
    "The random forest works exceptionally well on the training set, which is expected. However, the results on the training sets are worse than for the baseline. Looking at the confusion matrix we can see that not even one of the CLASEs is getting accurate predictions. Let's have a look at the feature importances in the random forest."
   ]
  },
  {
   "cell_type": "code",
   "execution_count": 40,
   "metadata": {},
   "outputs": [
    {
     "name": "stdout",
     "output_type": "stream",
     "text": [
      "Variable: MontoArr             Importance: 0.11\n",
      "Variable: Ingreso_Promedio_Zona_MM Importance: 0.08\n",
      "Variable: Nearest_School_km    Importance: 0.08\n",
      "Variable: Nearest_Kindergarten_km Importance: 0.08\n",
      "Variable: Nearest_Supermarket_km Importance: 0.08\n",
      "Variable: acc_1                Importance: 0.07\n",
      "Variable: acc_2                Importance: 0.07\n",
      "Variable: Nearest_Restaurant_km Importance: 0.07\n",
      "Variable: Nearest_Pharmacy_km  Importance: 0.07\n",
      "Variable: DensConstr_EOD       Importance: 0.05\n",
      "Variable: Sup_Prom_Constr_Hab_EOD Importance: 0.04\n",
      "Variable: Nr_Restaurants_5km   Importance: 0.04\n",
      "Variable: Nr_Schools_5km       Importance: 0.04\n",
      "Variable: Calid_EOD_norm_inv   Importance: 0.03\n",
      "Variable: Tiempo_Com_Stgo      Importance: 0.03\n",
      "Variable: Nr_Kindergartens_5km Importance: 0.03\n",
      "Variable: Nr_Pharmacies_5km    Importance: 0.03\n",
      "Variable: Nr_Supermarkets_5km  Importance: 0.02\n"
     ]
    }
   ],
   "source": [
    "# Get numerical feature importances\n",
    "importances = list(rf.feature_importances_)\n",
    "\n",
    "# List of tuples with variable and importance\n",
    "feature_importances = [(feature, round(importance, 2)) for feature, importance in zip(X_train.columns, importances)]\n",
    "# Sort the feature importances by most important first\n",
    "feature_importances = sorted(feature_importances, key = lambda x: x[1], reverse = True)\n",
    "\n",
    "# Print out the feature and importances \n",
    "for pair in feature_importances:\n",
    "    print('Variable: {:20} Importance: {}'.format(*pair))"
   ]
  },
  {
   "cell_type": "markdown",
   "metadata": {},
   "source": [
    "MontoArr seems to be the most important variable in the random forest, which is in line with the observations made from logstic regression coefficients. "
   ]
  },
  {
   "cell_type": "markdown",
   "metadata": {},
   "source": [
    "### Model 5: Neural network\n",
    "The last model we will try is a neural network. Because there are three target classes, we have to do some data preparation before modelling. This example was used as a reference: https://machinelearningmastery.com/multi-class-classification-tutorial-keras-deep-learning-library/"
   ]
  },
  {
   "cell_type": "code",
   "execution_count": 41,
   "metadata": {},
   "outputs": [
    {
     "name": "stderr",
     "output_type": "stream",
     "text": [
      "Using TensorFlow backend.\n"
     ]
    }
   ],
   "source": [
    "from keras.utils import np_utils"
   ]
  },
  {
   "cell_type": "code",
   "execution_count": 42,
   "metadata": {},
   "outputs": [],
   "source": [
    "#creating a target dummy vector\n",
    "uniques_train, ids_train = np.unique(y_train, return_inverse=True)\n",
    "uniques_test, ids_test = np.unique(y_test, return_inverse=True)\n",
    "\n",
    "y_train_dummy = np_utils.to_categorical(ids_train, len(uniques_train))\n",
    "y_test_dummy = np_utils.to_categorical(ids_test, len(uniques_test))"
   ]
  },
  {
   "cell_type": "code",
   "execution_count": 43,
   "metadata": {},
   "outputs": [
    {
     "data": {
      "text/plain": [
       "array([1, 1, 1, ..., 3, 1, 1])"
      ]
     },
     "execution_count": 43,
     "metadata": {},
     "output_type": "execute_result"
    }
   ],
   "source": [
    "#how to reverse back from dummy vector to actual values of CLASE\n",
    "y_train_dummy.argmax(1)+1"
   ]
  },
  {
   "cell_type": "markdown",
   "metadata": {},
   "source": [
    "The next step is to create a neural network. We will use quite a simple structure but include l2 regularizers in all the layers to combat overfitting. "
   ]
  },
  {
   "cell_type": "code",
   "execution_count": 44,
   "metadata": {},
   "outputs": [],
   "source": [
    "from keras.models import Sequential\n",
    "from keras.layers import Dense\n",
    "from keras.layers import Dropout\n",
    "from keras import regularizers"
   ]
  },
  {
   "cell_type": "code",
   "execution_count": 45,
   "metadata": {},
   "outputs": [],
   "source": [
    "# function to fit nnet\n",
    "def fit_nnet(X_train, y_train, num_epochs=15, batch_size=100):\n",
    "    # define the keras model\n",
    "    model = Sequential()\n",
    "    model.add(Dense(150, input_dim=18, activation='relu', kernel_regularizer=regularizers.l2(0.0001)))\n",
    "    model.add(Dense(100, activation='relu', kernel_regularizer=regularizers.l2(0.0001)))\n",
    "    model.add(Dense(30, activation='relu', kernel_regularizer=regularizers.l2(0.0001)))\n",
    "    model.add(Dense(3, activation='softmax', kernel_regularizer=regularizers.l2(0.0001)))\n",
    "\n",
    "    # compile the keras model\n",
    "    model.compile(loss='categorical_crossentropy', optimizer='adam', metrics=['accuracy'])\n",
    "\n",
    "    # fit the keras model on the dataset\n",
    "    history = model.fit(X_train, y_train, validation_split = 0.3,\n",
    "                        epochs=num_epochs, batch_size=batch_size, verbose=2)\n",
    "    return model, history"
   ]
  },
  {
   "cell_type": "code",
   "execution_count": 46,
   "metadata": {},
   "outputs": [],
   "source": [
    "def eval_nnet(model, X_new, y_true):\n",
    "    # evaluate the keras model\n",
    "    y_pred = model.predict(X_new)\n",
    "    y_pred = (y_pred > 0.5).astype(int)\n",
    "    y_pred = y_pred.argmax(1)+1\n",
    "\n",
    "    # evaluate predictions\n",
    "    result = evaluate(y_true, y_pred)\n",
    "    return y_pred, result"
   ]
  },
  {
   "cell_type": "code",
   "execution_count": 47,
   "metadata": {},
   "outputs": [
    {
     "name": "stdout",
     "output_type": "stream",
     "text": [
      "WARNING:tensorflow:From /Users/kristin/anaconda3/lib/python3.7/site-packages/keras/backend/tensorflow_backend.py:74: The name tf.get_default_graph is deprecated. Please use tf.compat.v1.get_default_graph instead.\n",
      "\n",
      "WARNING:tensorflow:From /Users/kristin/anaconda3/lib/python3.7/site-packages/keras/backend/tensorflow_backend.py:517: The name tf.placeholder is deprecated. Please use tf.compat.v1.placeholder instead.\n",
      "\n",
      "WARNING:tensorflow:From /Users/kristin/anaconda3/lib/python3.7/site-packages/keras/backend/tensorflow_backend.py:4138: The name tf.random_uniform is deprecated. Please use tf.random.uniform instead.\n",
      "\n",
      "WARNING:tensorflow:From /Users/kristin/anaconda3/lib/python3.7/site-packages/keras/optimizers.py:790: The name tf.train.Optimizer is deprecated. Please use tf.compat.v1.train.Optimizer instead.\n",
      "\n",
      "WARNING:tensorflow:From /Users/kristin/anaconda3/lib/python3.7/site-packages/keras/backend/tensorflow_backend.py:3295: The name tf.log is deprecated. Please use tf.math.log instead.\n",
      "\n",
      "WARNING:tensorflow:From /Users/kristin/anaconda3/lib/python3.7/site-packages/tensorflow/python/ops/math_grad.py:1250: add_dispatch_support.<locals>.wrapper (from tensorflow.python.ops.array_ops) is deprecated and will be removed in a future version.\n",
      "Instructions for updating:\n",
      "Use tf.where in 2.0, which has the same broadcast rule as np.where\n",
      "WARNING:tensorflow:From /Users/kristin/anaconda3/lib/python3.7/site-packages/keras/backend/tensorflow_backend.py:986: The name tf.assign_add is deprecated. Please use tf.compat.v1.assign_add instead.\n",
      "\n",
      "Train on 9584 samples, validate on 4108 samples\n",
      "Epoch 1/15\n",
      " - 1s - loss: 0.9136 - acc: 0.5391 - val_loss: 0.8841 - val_acc: 0.5445\n",
      "Epoch 2/15\n",
      " - 0s - loss: 0.8651 - acc: 0.5775 - val_loss: 0.8737 - val_acc: 0.5543\n",
      "Epoch 3/15\n",
      " - 0s - loss: 0.8532 - acc: 0.5886 - val_loss: 0.8755 - val_acc: 0.5592\n",
      "Epoch 4/15\n",
      " - 0s - loss: 0.8480 - acc: 0.5888 - val_loss: 0.8711 - val_acc: 0.5626\n",
      "Epoch 5/15\n",
      " - 0s - loss: 0.8443 - acc: 0.5888 - val_loss: 0.8800 - val_acc: 0.5565\n",
      "Epoch 6/15\n",
      " - 0s - loss: 0.8375 - acc: 0.5962 - val_loss: 0.8714 - val_acc: 0.5735\n",
      "Epoch 7/15\n",
      " - 0s - loss: 0.8324 - acc: 0.5980 - val_loss: 0.8654 - val_acc: 0.5723\n",
      "Epoch 8/15\n",
      " - 0s - loss: 0.8285 - acc: 0.6012 - val_loss: 0.8728 - val_acc: 0.5723\n",
      "Epoch 9/15\n",
      " - 0s - loss: 0.8233 - acc: 0.6064 - val_loss: 0.8714 - val_acc: 0.5706\n",
      "Epoch 10/15\n",
      " - 0s - loss: 0.8211 - acc: 0.6055 - val_loss: 0.8745 - val_acc: 0.5694\n",
      "Epoch 11/15\n",
      " - 0s - loss: 0.8157 - acc: 0.6079 - val_loss: 0.8879 - val_acc: 0.5713\n",
      "Epoch 12/15\n",
      " - 0s - loss: 0.8114 - acc: 0.6096 - val_loss: 0.8785 - val_acc: 0.5691\n",
      "Epoch 13/15\n",
      " - 0s - loss: 0.8062 - acc: 0.6199 - val_loss: 0.8862 - val_acc: 0.5628\n",
      "Epoch 14/15\n",
      " - 0s - loss: 0.7997 - acc: 0.6191 - val_loss: 0.8892 - val_acc: 0.5587\n",
      "Epoch 15/15\n",
      " - 0s - loss: 0.7988 - acc: 0.6144 - val_loss: 0.8900 - val_acc: 0.5538\n"
     ]
    }
   ],
   "source": [
    "fitted_model, history = fit_nnet(X_train, y_train_dummy)"
   ]
  },
  {
   "cell_type": "code",
   "execution_count": 48,
   "metadata": {},
   "outputs": [
    {
     "name": "stdout",
     "output_type": "stream",
     "text": [
      "- Train set results:\n",
      "accuracy: 0.5901986561495763\n",
      "precision: 0.6171980242478671\n",
      "recall: 0.4519894771456758\n",
      "f1 score: 0.5218299164768413\n",
      "- Test set results:\n",
      "accuracy: 0.432924563359346\n",
      "precision: 0.488\n",
      "recall: 0.3621713316369805\n",
      "f1 score: 0.4157740993184031\n"
     ]
    }
   ],
   "source": [
    "print(\"- Train set results:\")\n",
    "y_pred_train, results['NN-train-reg']  = eval_nnet(fitted_model, X_train, y_train)\n",
    "print(\"- Test set results:\")\n",
    "y_pred_test, results['NN-test-reg'] = eval_nnet(fitted_model, X_test, y_test)"
   ]
  },
  {
   "cell_type": "code",
   "execution_count": 49,
   "metadata": {},
   "outputs": [
    {
     "data": {
      "image/png": "[encoded data removed]",
      "text/plain": [
       "<Figure size 432x288 with 2 Axes>"
      ]
     },
     "metadata": {
      "needs_background": "light"
     },
     "output_type": "display_data"
    }
   ],
   "source": [
    "plot_confusion_matrix(y_test, y_pred_test, title = 'Confusion matrix for Neural Net');"
   ]
  },
  {
   "cell_type": "markdown",
   "metadata": {},
   "source": [
    "The accuracies are similar to the previous models. In terms of the correlation matrix, we can see that the model has trouble especially in predicting CLASE 3, but also CLASE 1. In the case of CLASE 2, the majority of predictions are accurate."
   ]
  },
  {
   "cell_type": "markdown",
   "metadata": {},
   "source": [
    "## 7. Comparing the results of the different models\n",
    "Now we have all the results in the results dataframe. Let's modify the dataframe a bit and then compare all of the models to find the model that has the best performance according to our evaluation metrics. "
   ]
  },
  {
   "cell_type": "code",
   "execution_count": 50,
   "metadata": {},
   "outputs": [
    {
     "data": {
      "text/html": [
       "<div>\n",
       "<style scoped>\n",
       "    .dataframe tbody tr th:only-of-type {\n",
       "        vertical-align: middle;\n",
       "    }\n",
       "\n",
       "    .dataframe tbody tr th {\n",
       "        vertical-align: top;\n",
       "    }\n",
       "\n",
       "    .dataframe thead th {\n",
       "        text-align: right;\n",
       "    }\n",
       "</style>\n",
       "<table border=\"1\" class=\"dataframe\">\n",
       "  <thead>\n",
       "    <tr style=\"text-align: right;\">\n",
       "      <th></th>\n",
       "      <th>accuracy</th>\n",
       "      <th>precision</th>\n",
       "      <th>recall</th>\n",
       "      <th>f1_score</th>\n",
       "      <th>test</th>\n",
       "    </tr>\n",
       "    <tr>\n",
       "      <th>index</th>\n",
       "      <th></th>\n",
       "      <th></th>\n",
       "      <th></th>\n",
       "      <th></th>\n",
       "      <th></th>\n",
       "    </tr>\n",
       "  </thead>\n",
       "  <tbody>\n",
       "    <tr>\n",
       "      <th>LogReg-train-l2</th>\n",
       "      <td>0.571209</td>\n",
       "      <td>0.537464</td>\n",
       "      <td>0.551957</td>\n",
       "      <td>0.544614</td>\n",
       "      <td>0</td>\n",
       "    </tr>\n",
       "    <tr>\n",
       "      <th>LogReg-test-l2</th>\n",
       "      <td>0.503159</td>\n",
       "      <td>0.475671</td>\n",
       "      <td>0.480916</td>\n",
       "      <td>0.478279</td>\n",
       "      <td>1</td>\n",
       "    </tr>\n",
       "    <tr>\n",
       "      <th>LogReg-train-l1</th>\n",
       "      <td>0.571356</td>\n",
       "      <td>0.537352</td>\n",
       "      <td>0.551134</td>\n",
       "      <td>0.544156</td>\n",
       "      <td>0</td>\n",
       "    </tr>\n",
       "    <tr>\n",
       "      <th>LogReg-test-l1</th>\n",
       "      <td>0.494983</td>\n",
       "      <td>0.471053</td>\n",
       "      <td>0.455471</td>\n",
       "      <td>0.463131</td>\n",
       "      <td>1</td>\n",
       "    </tr>\n",
       "    <tr>\n",
       "      <th>SVC-train</th>\n",
       "      <td>0.606705</td>\n",
       "      <td>0.570629</td>\n",
       "      <td>0.620355</td>\n",
       "      <td>0.594454</td>\n",
       "      <td>0</td>\n",
       "    </tr>\n",
       "    <tr>\n",
       "      <th>SVC-test</th>\n",
       "      <td>0.518023</td>\n",
       "      <td>0.489290</td>\n",
       "      <td>0.620017</td>\n",
       "      <td>0.546951</td>\n",
       "      <td>1</td>\n",
       "    </tr>\n",
       "    <tr>\n",
       "      <th>KNN-train</th>\n",
       "      <td>0.589322</td>\n",
       "      <td>0.563695</td>\n",
       "      <td>0.576948</td>\n",
       "      <td>0.570245</td>\n",
       "      <td>0</td>\n",
       "    </tr>\n",
       "    <tr>\n",
       "      <th>KNN-test</th>\n",
       "      <td>0.518766</td>\n",
       "      <td>0.512524</td>\n",
       "      <td>0.451230</td>\n",
       "      <td>0.479928</td>\n",
       "      <td>1</td>\n",
       "    </tr>\n",
       "    <tr>\n",
       "      <th>RandomForest-train</th>\n",
       "      <td>0.967134</td>\n",
       "      <td>0.974076</td>\n",
       "      <td>0.957580</td>\n",
       "      <td>0.965757</td>\n",
       "      <td>0</td>\n",
       "    </tr>\n",
       "    <tr>\n",
       "      <th>RandomForest-test</th>\n",
       "      <td>0.484578</td>\n",
       "      <td>0.495362</td>\n",
       "      <td>0.452926</td>\n",
       "      <td>0.473195</td>\n",
       "      <td>1</td>\n",
       "    </tr>\n",
       "    <tr>\n",
       "      <th>NN-train-reg</th>\n",
       "      <td>0.590199</td>\n",
       "      <td>0.617198</td>\n",
       "      <td>0.451989</td>\n",
       "      <td>0.521830</td>\n",
       "      <td>0</td>\n",
       "    </tr>\n",
       "    <tr>\n",
       "      <th>NN-test-reg</th>\n",
       "      <td>0.432925</td>\n",
       "      <td>0.488000</td>\n",
       "      <td>0.362171</td>\n",
       "      <td>0.415774</td>\n",
       "      <td>1</td>\n",
       "    </tr>\n",
       "  </tbody>\n",
       "</table>\n",
       "</div>"
      ],
      "text/plain": [
       "0                   accuracy  precision    recall  f1_score  test\n",
       "index                                                            \n",
       "LogReg-train-l2     0.571209   0.537464  0.551957  0.544614     0\n",
       "LogReg-test-l2      0.503159   0.475671  0.480916  0.478279     1\n",
       "LogReg-train-l1     0.571356   0.537352  0.551134  0.544156     0\n",
       "LogReg-test-l1      0.494983   0.471053  0.455471  0.463131     1\n",
       "SVC-train           0.606705   0.570629  0.620355  0.594454     0\n",
       "SVC-test            0.518023   0.489290  0.620017  0.546951     1\n",
       "KNN-train           0.589322   0.563695  0.576948  0.570245     0\n",
       "KNN-test            0.518766   0.512524  0.451230  0.479928     1\n",
       "RandomForest-train  0.967134   0.974076  0.957580  0.965757     0\n",
       "RandomForest-test   0.484578   0.495362  0.452926  0.473195     1\n",
       "NN-train-reg        0.590199   0.617198  0.451989  0.521830     0\n",
       "NN-test-reg         0.432925   0.488000  0.362171  0.415774     1"
      ]
     },
     "execution_count": 50,
     "metadata": {},
     "output_type": "execute_result"
    }
   ],
   "source": [
    "#let's transpose the dataframe and create a new column to distinguish between train and test results\n",
    "\n",
    "results_t = results.T\n",
    "results_t.reset_index(inplace=True)\n",
    "results_t['test'] = results_t['index'].apply(lambda s: 1 if 'test' in s else 0)\n",
    "results_t.set_index('index', drop=True, inplace=True)\n",
    "results_t"
   ]
  },
  {
   "cell_type": "code",
   "execution_count": 51,
   "metadata": {},
   "outputs": [
    {
     "data": {
      "text/html": [
       "<style  type=\"text/css\" >\n",
       "    #T_6b765df6_16a9_11ea_a2a1_acde48001122row0_col0 {\n",
       "            background-color:  #299729;\n",
       "            color:  #000000;\n",
       "        }    #T_6b765df6_16a9_11ea_a2a1_acde48001122row0_col1 {\n",
       "            background-color:  #ccf1cc;\n",
       "            color:  #000000;\n",
       "        }    #T_6b765df6_16a9_11ea_a2a1_acde48001122row0_col2 {\n",
       "            background-color:  #7cc57c;\n",
       "            color:  #000000;\n",
       "        }    #T_6b765df6_16a9_11ea_a2a1_acde48001122row0_col3 {\n",
       "            background-color:  #79c379;\n",
       "            color:  #000000;\n",
       "        }    #T_6b765df6_16a9_11ea_a2a1_acde48001122row0_col4 {\n",
       "            background-color:  #e5ffe5;\n",
       "            color:  #000000;\n",
       "        }    #T_6b765df6_16a9_11ea_a2a1_acde48001122row1_col0 {\n",
       "            background-color:  #3fa33f;\n",
       "            color:  #000000;\n",
       "        }    #T_6b765df6_16a9_11ea_a2a1_acde48001122row1_col1 {\n",
       "            background-color:  #e5ffe5;\n",
       "            color:  #000000;\n",
       "        }    #T_6b765df6_16a9_11ea_a2a1_acde48001122row1_col2 {\n",
       "            background-color:  #93d193;\n",
       "            color:  #000000;\n",
       "        }    #T_6b765df6_16a9_11ea_a2a1_acde48001122row1_col3 {\n",
       "            background-color:  #93d193;\n",
       "            color:  #000000;\n",
       "        }    #T_6b765df6_16a9_11ea_a2a1_acde48001122row1_col4 {\n",
       "            background-color:  #e5ffe5;\n",
       "            color:  #000000;\n",
       "        }    #T_6b765df6_16a9_11ea_a2a1_acde48001122row2_col0 {\n",
       "            background-color:  #028102;\n",
       "            color:  #f1f1f1;\n",
       "        }    #T_6b765df6_16a9_11ea_a2a1_acde48001122row2_col1 {\n",
       "            background-color:  #81c781;\n",
       "            color:  #000000;\n",
       "        }    #T_6b765df6_16a9_11ea_a2a1_acde48001122row2_col2 {\n",
       "            background-color:  #008000;\n",
       "            color:  #f1f1f1;\n",
       "        }    #T_6b765df6_16a9_11ea_a2a1_acde48001122row2_col3 {\n",
       "            background-color:  #008000;\n",
       "            color:  #f1f1f1;\n",
       "        }    #T_6b765df6_16a9_11ea_a2a1_acde48001122row2_col4 {\n",
       "            background-color:  #e5ffe5;\n",
       "            color:  #000000;\n",
       "        }    #T_6b765df6_16a9_11ea_a2a1_acde48001122row3_col0 {\n",
       "            background-color:  #008000;\n",
       "            color:  #f1f1f1;\n",
       "        }    #T_6b765df6_16a9_11ea_a2a1_acde48001122row3_col1 {\n",
       "            background-color:  #008000;\n",
       "            color:  #f1f1f1;\n",
       "        }    #T_6b765df6_16a9_11ea_a2a1_acde48001122row3_col2 {\n",
       "            background-color:  #96d396;\n",
       "            color:  #000000;\n",
       "        }    #T_6b765df6_16a9_11ea_a2a1_acde48001122row3_col3 {\n",
       "            background-color:  #75c175;\n",
       "            color:  #000000;\n",
       "        }    #T_6b765df6_16a9_11ea_a2a1_acde48001122row3_col4 {\n",
       "            background-color:  #e5ffe5;\n",
       "            color:  #000000;\n",
       "        }    #T_6b765df6_16a9_11ea_a2a1_acde48001122row4_col0 {\n",
       "            background-color:  #5bb25b;\n",
       "            color:  #000000;\n",
       "        }    #T_6b765df6_16a9_11ea_a2a1_acde48001122row4_col1 {\n",
       "            background-color:  #5eb45e;\n",
       "            color:  #000000;\n",
       "        }    #T_6b765df6_16a9_11ea_a2a1_acde48001122row4_col2 {\n",
       "            background-color:  #94d294;\n",
       "            color:  #000000;\n",
       "        }    #T_6b765df6_16a9_11ea_a2a1_acde48001122row4_col3 {\n",
       "            background-color:  #81c781;\n",
       "            color:  #000000;\n",
       "        }    #T_6b765df6_16a9_11ea_a2a1_acde48001122row4_col4 {\n",
       "            background-color:  #e5ffe5;\n",
       "            color:  #000000;\n",
       "        }    #T_6b765df6_16a9_11ea_a2a1_acde48001122row5_col0 {\n",
       "            background-color:  #e5ffe5;\n",
       "            color:  #000000;\n",
       "        }    #T_6b765df6_16a9_11ea_a2a1_acde48001122row5_col1 {\n",
       "            background-color:  #88cb88;\n",
       "            color:  #000000;\n",
       "        }    #T_6b765df6_16a9_11ea_a2a1_acde48001122row5_col2 {\n",
       "            background-color:  #e5ffe5;\n",
       "            color:  #000000;\n",
       "        }    #T_6b765df6_16a9_11ea_a2a1_acde48001122row5_col3 {\n",
       "            background-color:  #e5ffe5;\n",
       "            color:  #000000;\n",
       "        }    #T_6b765df6_16a9_11ea_a2a1_acde48001122row5_col4 {\n",
       "            background-color:  #e5ffe5;\n",
       "            color:  #000000;\n",
       "        }</style><table id=\"T_6b765df6_16a9_11ea_a2a1_acde48001122\" ><thead>    <tr>        <th class=\"index_name level0\" >0</th>        <th class=\"col_heading level0 col0\" >accuracy</th>        <th class=\"col_heading level0 col1\" >precision</th>        <th class=\"col_heading level0 col2\" >recall</th>        <th class=\"col_heading level0 col3\" >f1_score</th>        <th class=\"col_heading level0 col4\" >test</th>    </tr>    <tr>        <th class=\"index_name level0\" >index</th>        <th class=\"blank\" ></th>        <th class=\"blank\" ></th>        <th class=\"blank\" ></th>        <th class=\"blank\" ></th>        <th class=\"blank\" ></th>    </tr></thead><tbody>\n",
       "                <tr>\n",
       "                        <th id=\"T_6b765df6_16a9_11ea_a2a1_acde48001122level0_row0\" class=\"row_heading level0 row0\" >LogReg-test-l2</th>\n",
       "                        <td id=\"T_6b765df6_16a9_11ea_a2a1_acde48001122row0_col0\" class=\"data row0 col0\" >0.503159</td>\n",
       "                        <td id=\"T_6b765df6_16a9_11ea_a2a1_acde48001122row0_col1\" class=\"data row0 col1\" >0.475671</td>\n",
       "                        <td id=\"T_6b765df6_16a9_11ea_a2a1_acde48001122row0_col2\" class=\"data row0 col2\" >0.480916</td>\n",
       "                        <td id=\"T_6b765df6_16a9_11ea_a2a1_acde48001122row0_col3\" class=\"data row0 col3\" >0.478279</td>\n",
       "                        <td id=\"T_6b765df6_16a9_11ea_a2a1_acde48001122row0_col4\" class=\"data row0 col4\" >1</td>\n",
       "            </tr>\n",
       "            <tr>\n",
       "                        <th id=\"T_6b765df6_16a9_11ea_a2a1_acde48001122level0_row1\" class=\"row_heading level0 row1\" >LogReg-test-l1</th>\n",
       "                        <td id=\"T_6b765df6_16a9_11ea_a2a1_acde48001122row1_col0\" class=\"data row1 col0\" >0.494983</td>\n",
       "                        <td id=\"T_6b765df6_16a9_11ea_a2a1_acde48001122row1_col1\" class=\"data row1 col1\" >0.471053</td>\n",
       "                        <td id=\"T_6b765df6_16a9_11ea_a2a1_acde48001122row1_col2\" class=\"data row1 col2\" >0.455471</td>\n",
       "                        <td id=\"T_6b765df6_16a9_11ea_a2a1_acde48001122row1_col3\" class=\"data row1 col3\" >0.463131</td>\n",
       "                        <td id=\"T_6b765df6_16a9_11ea_a2a1_acde48001122row1_col4\" class=\"data row1 col4\" >1</td>\n",
       "            </tr>\n",
       "            <tr>\n",
       "                        <th id=\"T_6b765df6_16a9_11ea_a2a1_acde48001122level0_row2\" class=\"row_heading level0 row2\" >SVC-test</th>\n",
       "                        <td id=\"T_6b765df6_16a9_11ea_a2a1_acde48001122row2_col0\" class=\"data row2 col0\" >0.518023</td>\n",
       "                        <td id=\"T_6b765df6_16a9_11ea_a2a1_acde48001122row2_col1\" class=\"data row2 col1\" >0.48929</td>\n",
       "                        <td id=\"T_6b765df6_16a9_11ea_a2a1_acde48001122row2_col2\" class=\"data row2 col2\" >0.620017</td>\n",
       "                        <td id=\"T_6b765df6_16a9_11ea_a2a1_acde48001122row2_col3\" class=\"data row2 col3\" >0.546951</td>\n",
       "                        <td id=\"T_6b765df6_16a9_11ea_a2a1_acde48001122row2_col4\" class=\"data row2 col4\" >1</td>\n",
       "            </tr>\n",
       "            <tr>\n",
       "                        <th id=\"T_6b765df6_16a9_11ea_a2a1_acde48001122level0_row3\" class=\"row_heading level0 row3\" >KNN-test</th>\n",
       "                        <td id=\"T_6b765df6_16a9_11ea_a2a1_acde48001122row3_col0\" class=\"data row3 col0\" >0.518766</td>\n",
       "                        <td id=\"T_6b765df6_16a9_11ea_a2a1_acde48001122row3_col1\" class=\"data row3 col1\" >0.512524</td>\n",
       "                        <td id=\"T_6b765df6_16a9_11ea_a2a1_acde48001122row3_col2\" class=\"data row3 col2\" >0.45123</td>\n",
       "                        <td id=\"T_6b765df6_16a9_11ea_a2a1_acde48001122row3_col3\" class=\"data row3 col3\" >0.479928</td>\n",
       "                        <td id=\"T_6b765df6_16a9_11ea_a2a1_acde48001122row3_col4\" class=\"data row3 col4\" >1</td>\n",
       "            </tr>\n",
       "            <tr>\n",
       "                        <th id=\"T_6b765df6_16a9_11ea_a2a1_acde48001122level0_row4\" class=\"row_heading level0 row4\" >RandomForest-test</th>\n",
       "                        <td id=\"T_6b765df6_16a9_11ea_a2a1_acde48001122row4_col0\" class=\"data row4 col0\" >0.484578</td>\n",
       "                        <td id=\"T_6b765df6_16a9_11ea_a2a1_acde48001122row4_col1\" class=\"data row4 col1\" >0.495362</td>\n",
       "                        <td id=\"T_6b765df6_16a9_11ea_a2a1_acde48001122row4_col2\" class=\"data row4 col2\" >0.452926</td>\n",
       "                        <td id=\"T_6b765df6_16a9_11ea_a2a1_acde48001122row4_col3\" class=\"data row4 col3\" >0.473195</td>\n",
       "                        <td id=\"T_6b765df6_16a9_11ea_a2a1_acde48001122row4_col4\" class=\"data row4 col4\" >1</td>\n",
       "            </tr>\n",
       "            <tr>\n",
       "                        <th id=\"T_6b765df6_16a9_11ea_a2a1_acde48001122level0_row5\" class=\"row_heading level0 row5\" >NN-test-reg</th>\n",
       "                        <td id=\"T_6b765df6_16a9_11ea_a2a1_acde48001122row5_col0\" class=\"data row5 col0\" >0.432925</td>\n",
       "                        <td id=\"T_6b765df6_16a9_11ea_a2a1_acde48001122row5_col1\" class=\"data row5 col1\" >0.488</td>\n",
       "                        <td id=\"T_6b765df6_16a9_11ea_a2a1_acde48001122row5_col2\" class=\"data row5 col2\" >0.362171</td>\n",
       "                        <td id=\"T_6b765df6_16a9_11ea_a2a1_acde48001122row5_col3\" class=\"data row5 col3\" >0.415774</td>\n",
       "                        <td id=\"T_6b765df6_16a9_11ea_a2a1_acde48001122row5_col4\" class=\"data row5 col4\" >1</td>\n",
       "            </tr>\n",
       "    </tbody></table>"
      ],
      "text/plain": [
       "<pandas.io.formats.style.Styler at 0x1a227e5908>"
      ]
     },
     "execution_count": 51,
     "metadata": {},
     "output_type": "execute_result"
    }
   ],
   "source": [
    "import seaborn as sns\n",
    "cm = sns.light_palette(\"green\", as_cmap=True)\n",
    "\n",
    "results_t[results_t.test == 1].style.background_gradient(cmap=cm)"
   ]
  },
  {
   "cell_type": "markdown",
   "metadata": {},
   "source": [
    "According to the accuracy metrics, SVC gives the best accuracy on the test set. From the confusion matrix we saw that the model predicts CLASE 2 most often, and the accuracy is therefore good for CLASE 2 observations, which is the most common category. The neural network has the second highest recall score and is able to predict CLASE 2 quite well, but again has difficulties in predicting the two smaller categories.\n",
    "\n",
    "It could be argued that the best model to use is KNN. The KNN model has the second best accuracy, and seems to give fairly accurate predictions for CLASE 1 and CLASE 2. The model has some difficulties predicting the middle class, i.e. CLASE 2, but the number of correct labels is still higher than the number of either of the wrong labels. "
   ]
  },
  {
   "cell_type": "markdown",
   "metadata": {},
   "source": [
    "## 8. Testing predictions with a shuffled dataset\n",
    "One reason for the bad accuracy on the test set is probably the division between train and test sets. As mentioned before, the train and test sets are very different, so let's try to create a random train/test split and use a few of the models to see if we can get better results. The random forest has an excellent accuracy on the training set, so using that model on a shuffled dataset might give us good results."
   ]
  },
  {
   "cell_type": "code",
   "execution_count": 52,
   "metadata": {},
   "outputs": [],
   "source": [
    "from sklearn.model_selection import train_test_split\n",
    "X= data[X_cols]\n",
    "y = data[Y_col]\n",
    "\n",
    "X_train, X_test, y_train, y_test = train_test_split(X, y, test_size=0.2, random_state=42)\n",
    "\n",
    "#standardizing training and test sets\n",
    "X_mean = X_train.mean(axis=0)\n",
    "X_std = X_train.std(axis=0)\n",
    "X_train = (X_train - X_mean) / X_std\n",
    "#X_val = (X_val - X_mean) / X_std\n",
    "X_test = (X_test - X_mean) / X_std\n"
   ]
  },
  {
   "cell_type": "code",
   "execution_count": 53,
   "metadata": {},
   "outputs": [
    {
     "name": "stderr",
     "output_type": "stream",
     "text": [
      "/Users/kristin/anaconda3/lib/python3.7/site-packages/ipykernel_launcher.py:4: DataConversionWarning: A column-vector y was passed when a 1d array was expected. Please change the shape of y to (n_samples,), for example using ravel().\n",
      "  after removing the cwd from sys.path.\n"
     ]
    },
    {
     "name": "stdout",
     "output_type": "stream",
     "text": [
      "- Train set results:\n",
      "accuracy: 0.9764993132916222\n",
      "precision: 0.9775862068965517\n",
      "recall: 0.9728894989704873\n",
      "f1 score: 0.9752321981424148\n",
      "- Test set results:\n",
      "accuracy: 0.5337198657308514\n",
      "precision: 0.5016903313049358\n",
      "recall: 0.5177948360083741\n",
      "f1 score: 0.5096153846153847\n"
     ]
    },
    {
     "data": {
      "text/plain": [
       "[0.5337198657308514,\n",
       " 0.5016903313049358,\n",
       " 0.5177948360083741,\n",
       " 0.5096153846153847]"
      ]
     },
     "execution_count": 53,
     "metadata": {},
     "output_type": "execute_result"
    }
   ],
   "source": [
    "from sklearn.ensemble import RandomForestClassifier\n",
    "rf = RandomForestClassifier(n_estimators = 10)\n",
    "\n",
    "rf.fit(X_train, y_train)\n",
    "\n",
    "y_pred_train = rf.predict(X_train)\n",
    "y_pred_test = rf.predict(X_test)\n",
    "\n",
    "print(\"- Train set results:\")\n",
    "evaluate(y_train, y_pred_train, print_cm = False)\n",
    "print(\"- Test set results:\")\n",
    "evaluate(y_test, y_pred_test, print_cm = False)"
   ]
  },
  {
   "cell_type": "markdown",
   "metadata": {},
   "source": [
    "The results for the test set didn't improve as much as hoped, and there still seems to be a mismatch between the training and the test sets. It seems like the random forest is overfitting on our training set, but even decreasing the number of trees doesn't seem to decrease overfitting and increase the accuracy on the test set. It seems like the features we have just don't have a great predictive power. \n",
    "\n",
    "Let's try to use the SVC for the shuffled dataset, since that seemed to have the highest accuracy. "
   ]
  },
  {
   "cell_type": "code",
   "execution_count": 54,
   "metadata": {},
   "outputs": [
    {
     "name": "stderr",
     "output_type": "stream",
     "text": [
      "/Users/kristin/anaconda3/lib/python3.7/site-packages/sklearn/utils/validation.py:724: DataConversionWarning: A column-vector y was passed when a 1d array was expected. Please change the shape of y to (n_samples, ), for example using ravel().\n",
      "  y = column_or_1d(y, warn=True)\n",
      "/Users/kristin/anaconda3/lib/python3.7/site-packages/sklearn/svm/base.py:193: FutureWarning: The default value of gamma will change from 'auto' to 'scale' in version 0.22 to account better for unscaled features. Set gamma explicitly to 'auto' or 'scale' to avoid this warning.\n",
      "  \"avoid this warning.\", FutureWarning)\n"
     ]
    },
    {
     "name": "stdout",
     "output_type": "stream",
     "text": [
      "- Train set results:\n",
      "accuracy: 0.6074317106668702\n",
      "precision: 0.56957583155325\n",
      "recall: 0.640528483184626\n",
      "f1 score: 0.6029720562106283\n",
      "- Test set results:\n",
      "accuracy: 0.5898687824229478\n",
      "precision: 0.5388207822533567\n",
      "recall: 0.6441032798325191\n",
      "f1 score: 0.5867768595041322\n"
     ]
    },
    {
     "data": {
      "text/plain": [
       "[0.5898687824229478,\n",
       " 0.5388207822533567,\n",
       " 0.6441032798325191,\n",
       " 0.5867768595041322]"
      ]
     },
     "execution_count": 54,
     "metadata": {},
     "output_type": "execute_result"
    }
   ],
   "source": [
    "from sklearn.svm import SVC\n",
    "sv = SVC()\n",
    "\n",
    "sv.fit(X_train, y_train)\n",
    "\n",
    "y_pred_train = sv.predict(X_train)\n",
    "y_pred_test = sv.predict(X_test)\n",
    "\n",
    "print(\"- Train set results:\")\n",
    "evaluate(y_train, y_pred_train, print_cm = False)\n",
    "print(\"- Test set results:\")\n",
    "evaluate(y_test, y_pred_test, print_cm = False)"
   ]
  },
  {
   "cell_type": "code",
   "execution_count": 55,
   "metadata": {},
   "outputs": [
    {
     "data": {
      "image/png": "[encoded data removed]",
      "text/plain": [
       "<Figure size 432x288 with 2 Axes>"
      ]
     },
     "metadata": {
      "needs_background": "light"
     },
     "output_type": "display_data"
    }
   ],
   "source": [
    "plot_confusion_matrix(y_test, y_pred_test, title = 'Confusion matrix for SVC');"
   ]
  },
  {
   "cell_type": "markdown",
   "metadata": {},
   "source": [
    "The results for the test and train sets are now closer to each other, as expected. The confusion matrix actually looks fairly good, as the majority of CLASE 1 and CLASE 2 get the correct labels. There are still some difficulties in predicting the label for CLASE 3, and the overall results are still just below 60%. Even though we specifically chose features that have the highest correlation with the target varible, the features still don't seem to explain the target variable in the best possible way. To improve results further, we would need to get access to variables that have a higher explanatory value. "
   ]
  },
  {
   "cell_type": "markdown",
   "metadata": {},
   "source": [
    "## 9. Conclusions"
   ]
  },
  {
   "cell_type": "markdown",
   "metadata": {},
   "source": [
    "The results show that it is difficult to predict the CLASE accurately, especially when the training set and test set are of different areas and therefore perform in a different way. As we saw in the Descriptive Statistics Notebook, the test set covers the city center. In the city center for example the distances have a different meaning because everything is close by. For example a 1km distance to the closes grocery store can be quite a long distance, while somewhere in the suburbs 1km could be considered short. This kind of distrotion in values is not taken into account in the modeling. \n",
    "\n",
    "Even the results on the training set seemed to be quite low, as the accuracy was around 60%. This might be due to the fact that the features we have are simply not explanatory enough. The dataset would need to be enriched with more relevant features in order to make more accurate predictions. Another way to look at the problem is the target variable definition - is it sufficient to expect that the kind of house depends on years of education? A more natural measure would be the household income, the size of the household, the number of kids in the household or the average age of the household - or a combination of these. Formulating the problem in a logical way and thinking critically what we want to predict is an extremely important part of a data scientist's job. "
   ]
  },
  {
   "cell_type": "markdown",
   "metadata": {},
   "source": [
    "## 10. Division of work"
   ]
  },
  {
   "cell_type": "code",
   "execution_count": 56,
   "metadata": {},
   "outputs": [],
   "source": [
    "notebooks = ['1. Descriptive statistics', '2. Additional dataset', '3. Exploratory part', '4. Predictive part']\n",
    "workload_1 = {'Petra': 0.33, 'Lukas': 0.33, 'Kristin': 0.33}\n",
    "workload_2 = {'Petra': 0, 'Lukas': 0, 'Kristin': 1}\n",
    "workload_3 = {'Petra': 0, 'Lukas': 0.85, 'Kristin': 0.15}\n",
    "workload_4 = {'Petra': 0.9, 'Lukas': 0, 'Kristin': 0.1}"
   ]
  },
  {
   "cell_type": "code",
   "execution_count": 57,
   "metadata": {},
   "outputs": [
    {
     "name": "stdout",
     "output_type": "stream",
     "text": [
      "Workload division for: 1. Descriptive statistics\n",
      "Petra : 0.33\n",
      "Lukas : 0.33\n",
      "Kristin : 0.33\n",
      "\n",
      "Workload division for: 2. Additional dataset\n",
      "Petra : 0\n",
      "Lukas : 0\n",
      "Kristin : 1\n",
      "\n",
      "Workload division for: 3. Exploratory part\n",
      "Petra : 0\n",
      "Lukas : 0.85\n",
      "Kristin : 0.15\n",
      "\n",
      "Workload division for: 4. Predictive part\n",
      "Petra : 0.9\n",
      "Lukas : 0\n",
      "Kristin : 0.1\n",
      "\n"
     ]
    }
   ],
   "source": [
    "workloads = [workload_1, workload_2, workload_3, workload_4]\n",
    "for i in range(4):\n",
    "    print('Workload division for:', notebooks[i])\n",
    "    for part in workloads[i]:\n",
    "        print (part,':', workloads[i][part])\n",
    "    print(\"\")"
   ]
  }
 ],
 "metadata": {
  "kernelspec": {
   "display_name": "Python 3",
   "language": "python",
   "name": "python3"
  },
  "language_info": {
   "codemirror_mode": {
    "name": "ipython",
    "version": 3
   },
   "file_extension": ".py",
   "mimetype": "text/x-python",
   "name": "python",
   "nbconvert_exporter": "python",
   "pygments_lexer": "ipython3",
   "version": "3.7.3"
  }
 },
 "nbformat": 4,
 "nbformat_minor": 2
}
